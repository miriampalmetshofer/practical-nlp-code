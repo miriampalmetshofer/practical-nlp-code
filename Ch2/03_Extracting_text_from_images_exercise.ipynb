{
 "cells": [
  {
   "cell_type": "markdown",
   "metadata": {
    "colab_type": "text",
    "id": "fsZspRI6j92d"
   },
   "source": [
    "# 02 – Image to Text "
   ]
  },
  {
   "cell_type": "code",
   "execution_count": 36,
   "metadata": {
    "colab": {},
    "colab_type": "code",
    "id": "m7LavpYEivma"
   },
   "outputs": [],
   "source": [
    "import pytesseract\n",
    "from bs4 import BeautifulSoup\n",
    "from urllib.request import Request, urlopen\n",
    "import requests\n",
    "import cv2"
   ]
  },
  {
   "cell_type": "code",
   "execution_count": 37,
   "metadata": {},
   "outputs": [],
   "source": [
    "myurl = \"https://www.pexels.com/de-de/foto/banner-internet-haus-vereinigte-staaten-von-amerika-5821295/\"\n",
    "headers = {'User-Agent': 'Mozilla/5.0 (Windows NT 10.0; Win64; x64) '\n",
    "                         'AppleWebKit/537.36 (KHTML, like Gecko) '\n",
    "                         'Chrome/126.0.0.0 Safari/537.36'}\n",
    "\n",
    "req = Request(myurl, headers=headers)\n",
    "html = urlopen(req).read()\n",
    "soup = BeautifulSoup(html, 'html.parser')"
   ]
  },
  {
   "cell_type": "code",
   "execution_count": 38,
   "metadata": {},
   "outputs": [
    {
     "name": "stdout",
     "output_type": "stream",
     "text": [
      "Image downloaded and saved as pexels_image.jpg\n"
     ]
    }
   ],
   "source": [
    "image_tag = soup.find('img', class_='PhotoZoom_image__2c8qM')\n",
    "\n",
    "if image_tag and image_tag.has_attr('src'):\n",
    "    image_url = image_tag['src']\n",
    "\n",
    "# download it\n",
    "img_data = requests.get(image_url).content\n",
    "with open('pexels_image.jpg', 'wb') as handler:\n",
    "    handler.write(img_data)\n",
    "\n",
    "print(\"Image downloaded and saved as pexels_image.jpg\")"
   ]
  },
  {
   "cell_type": "code",
   "execution_count": 39,
   "metadata": {},
   "outputs": [
    {
     "name": "stdout",
     "output_type": "stream",
     "text": [
      "Detected headline:\n",
      " biden beats trump\n"
     ]
    }
   ],
   "source": [
    "img = cv2.imread(\"pexels_image.jpg\")\n",
    "\n",
    "gray = cv2.cvtColor(img, cv2.COLOR_BGR2GRAY)\n",
    "\n",
    "data = pytesseract.image_to_data(gray, output_type=Output.DICT)\n",
    "\n",
    "# Group words by 'block_num' (each block is a paragraph or headline)\n",
    "blocks = {}\n",
    "for i, text in enumerate(data['text']):\n",
    "    if text.strip():\n",
    "        block_id = data['block_num'][i]\n",
    "        if block_id not in blocks:\n",
    "            blocks[block_id] = {'text': [], 'area': 0}\n",
    "        blocks[block_id]['text'].append(text)\n",
    "\n",
    "        w, h = data['width'][i], data['height'][i]\n",
    "        blocks[block_id]['area'] += w * h\n",
    "\n",
    "# Find the block with the largest total area\n",
    "largest_block = max(blocks.values(), key=lambda b: b['area'])\n",
    "headline = \" \".join(largest_block['text'])\n",
    "\n",
    "print(\"Detected headline:\\n\", headline.lower())"
   ]
  }
 ],
 "metadata": {
  "colab": {
   "collapsed_sections": [],
   "name": "Extracting_text_from_images_tesseract.ipynb",
   "provenance": []
  },
  "kernelspec": {
   "display_name": "Python 3",
   "language": "python",
   "name": "python3"
  },
  "language_info": {
   "codemirror_mode": {
    "name": "ipython",
    "version": 3
   },
   "file_extension": ".py",
   "mimetype": "text/x-python",
   "name": "python",
   "nbconvert_exporter": "python",
   "pygments_lexer": "ipython3",
   "version": "3.11.13"
  },
  "varInspector": {
   "cols": {
    "lenName": 16,
    "lenType": 16,
    "lenVar": 40
   },
   "kernels_config": {
    "python": {
     "delete_cmd_postfix": "",
     "delete_cmd_prefix": "del ",
     "library": "var_list.py",
     "varRefreshCmd": "print(var_dic_list())"
    },
    "r": {
     "delete_cmd_postfix": ") ",
     "delete_cmd_prefix": "rm(",
     "library": "var_list.r",
     "varRefreshCmd": "cat(var_dic_list()) "
    }
   },
   "types_to_exclude": [
    "module",
    "function",
    "builtin_function_or_method",
    "instance",
    "_Feature"
   ],
   "window_display": false
  }
 },
 "nbformat": 4,
 "nbformat_minor": 1
}
