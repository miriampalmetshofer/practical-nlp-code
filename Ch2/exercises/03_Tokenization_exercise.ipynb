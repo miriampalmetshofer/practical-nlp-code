{
 "cells": [
  {
   "cell_type": "markdown",
   "metadata": {
    "colab_type": "text",
    "id": "QnXzcZvdc-r6"
   },
   "source": [
    "# 03 – Tokenization, Stemming, Lemmatization and POS Tagging\n",
    "\n",
    "\n",
    "## Setup and Imports"
   ]
  },
  {
   "cell_type": "code",
   "execution_count": null,
   "metadata": {},
   "outputs": [
    {
     "name": "stderr",
     "output_type": "stream",
     "text": [
      "[nltk_data] Downloading package stopwords to\n",
      "[nltk_data]     /Users/miriamplametshofer/nltk_data...\n",
      "[nltk_data]   Package stopwords is already up-to-date!\n",
      "[nltk_data] Downloading package punkt to\n",
      "[nltk_data]     /Users/miriamplametshofer/nltk_data...\n",
      "[nltk_data]   Package punkt is already up-to-date!\n",
      "[nltk_data] Downloading package punkt_tab to\n",
      "[nltk_data]     /Users/miriamplametshofer/nltk_data...\n",
      "[nltk_data]   Package punkt_tab is already up-to-date!\n",
      "[nltk_data] Downloading package wordnet to\n",
      "[nltk_data]     /Users/miriamplametshofer/nltk_data...\n",
      "[nltk_data]   Package wordnet is already up-to-date!\n",
      "[nltk_data] Downloading package averaged_perceptron_tagger_eng to\n",
      "[nltk_data]     /Users/miriamplametshofer/nltk_data...\n",
      "[nltk_data]   Package averaged_perceptron_tagger_eng is already up-to-\n",
      "[nltk_data]       date!\n"
     ]
    },
    {
     "data": {
      "text/plain": [
       "True"
      ]
     },
     "execution_count": 19,
     "metadata": {},
     "output_type": "execute_result"
    }
   ],
   "source": [
    "import re\n",
    "import string\n",
    "from pprint import pprint\n",
    "\n",
    "import nltk\n",
    "from nltk.corpus import stopwords\n",
    "from nltk.tokenize import word_tokenize\n",
    "from nltk.stem import PorterStemmer\n",
    "from nltk.stem import WordNetLemmatizer\n",
    "\n",
    "# Download required NLTK data\n",
    "nltk.download('stopwords')\n",
    "nltk.download('punkt')\n",
    "nltk.download('punkt_tab')\n",
    "nltk.download('wordnet')\n",
    "nltk.download('averaged_perceptron_tagger_eng')"
   ]
  },
  {
   "cell_type": "markdown",
   "metadata": {},
   "source": [
    "## Data Preparation"
   ]
  },
  {
   "cell_type": "code",
   "execution_count": 20,
   "metadata": {
    "colab": {},
    "colab_type": "code",
    "id": "R3xEmJpRc5r8"
   },
   "outputs": [],
   "source": [
    "corpus_original = \"HONG KONG, Oct 12 (Reuters) - Alibaba Group (9988.HK), opens new tab founder Jack Ma, largely out of public view since a regulatory clampdown started on his business empire late last year, is currently in Hong Kong and has met business associates in recent days, two sources told Reuters.\"\n",
    "corpus = \"HONG KONG, Oct 12 (Reuters) - Alibaba Group (9988.HK), opens new tab founder Jack Ma, largely out of public view since a regulatory clampdown started on his business empire late last year, is currently in Hong Kong and has met business associates in recent days, two sources told Reuters.\""
   ]
  },
  {
   "cell_type": "markdown",
   "metadata": {},
   "source": [
    "### Text Preprocessing Steps"
   ]
  },
  {
   "cell_type": "code",
   "execution_count": 21,
   "metadata": {
    "colab": {
     "base_uri": "https://localhost:8080/",
     "height": 54
    },
    "colab_type": "code",
    "id": "KHh_33IopPTf",
    "outputId": "fa12e7e4-aeb3-4053-be10-3cadad90d094"
   },
   "outputs": [
    {
     "name": "stdout",
     "output_type": "stream",
     "text": [
      "HONG KONG, Oct  (Reuters) - Alibaba Group (.HK), opens new tab founder Jack Ma, largely out of public view since a regulatory clampdown started on his business empire late last year, is currently in Hong Kong and has met business associates in recent days, two sources told Reuters.\n"
     ]
    }
   ],
   "source": [
    "#removing digits in the corpus\n",
    "corpus = re.sub(r'\\d+','', corpus)\n",
    "print(corpus)"
   ]
  },
  {
   "cell_type": "code",
   "execution_count": 22,
   "metadata": {
    "colab": {
     "base_uri": "https://localhost:8080/",
     "height": 54
    },
    "colab_type": "code",
    "id": "3yaGf8RiqgBM",
    "outputId": "859abb8b-3a34-4e23-bd8e-963520fb6ed3"
   },
   "outputs": [
    {
     "name": "stdout",
     "output_type": "stream",
     "text": [
      "HONG KONG Oct  Reuters  Alibaba Group HK opens new tab founder Jack Ma largely out of public view since a regulatory clampdown started on his business empire late last year is currently in Hong Kong and has met business associates in recent days two sources told Reuters\n"
     ]
    }
   ],
   "source": [
    "#removing punctuations\n",
    "corpus = corpus.translate(str.maketrans('', '', string.punctuation))\n",
    "print(corpus)"
   ]
  },
  {
   "cell_type": "code",
   "execution_count": 23,
   "metadata": {
    "colab": {
     "base_uri": "https://localhost:8080/",
     "height": 34
    },
    "colab_type": "code",
    "id": "v5Q--GItqzfu",
    "outputId": "82fec440-1251-4ba1-cdf4-f1cab3c2a607"
   },
   "outputs": [
    {
     "name": "stdout",
     "output_type": "stream",
     "text": [
      "HONG KONG Oct  Reuters  Alibaba Group HK opens new tab founder Jack Ma largely out of public view since a regulatory clampdown started on his business empire late last year is currently in Hong Kong and has met business associates in recent days two sources told Reuters\n"
     ]
    }
   ],
   "source": [
    "#removing punctuations\n",
    "corpus = corpus.translate(str.maketrans('', '', string.punctuation))\n",
    "print(corpus)"
   ]
  },
  {
   "cell_type": "markdown",
   "metadata": {},
   "source": [
    "## Tokenization\n",
    "\n",
    "Tokenization is the process of breaking text into individual words or tokens."
   ]
  },
  {
   "cell_type": "code",
   "execution_count": 24,
   "metadata": {
    "colab": {
     "base_uri": "https://localhost:8080/",
     "height": 272
    },
    "colab_type": "code",
    "id": "OUz580k2sMqf",
    "outputId": "da21bf1e-444b-4077-c823-e58b4986a35f"
   },
   "outputs": [
    {
     "name": "stdout",
     "output_type": "stream",
     "text": [
      "\n",
      "NLTK\n",
      "Tokenized corpus: ['HONG', 'KONG', 'Oct', 'Reuters', 'Alibaba', 'Group', 'HK', 'opens', 'new', 'tab', 'founder', 'Jack', 'Ma', 'largely', 'out', 'of', 'public', 'view', 'since', 'a', 'regulatory', 'clampdown', 'started', 'on', 'his', 'business', 'empire', 'late', 'last', 'year', 'is', 'currently', 'in', 'Hong', 'Kong', 'and', 'has', 'met', 'business', 'associates', 'in', 'recent', 'days', 'two', 'sources', 'told', 'Reuters']\n",
      "Tokenized corpus without stopwords: ['HONG', 'KONG', 'Oct', 'Reuters', 'Alibaba', 'Group', 'HK', 'opens', 'new', 'tab', 'founder', 'Jack', 'Ma', 'largely', 'public', 'view', 'since', 'regulatory', 'clampdown', 'started', 'business', 'empire', 'late', 'last', 'year', 'currently', 'Hong', 'Kong', 'met', 'business', 'associates', 'recent', 'days', 'two', 'sources', 'told', 'Reuters']\n"
     ]
    }
   ],
   "source": [
    "stop_words_nltk = set(stopwords.words('english'))\n",
    "\n",
    "tokenized_corpus_nltk = word_tokenize(corpus)\n",
    "print(\"\\nNLTK\\nTokenized corpus:\",tokenized_corpus_nltk)\n",
    "tokenized_corpus_without_stopwords = [i for i in tokenized_corpus_nltk if not i in stop_words_nltk]\n",
    "print(\"Tokenized corpus without stopwords:\",tokenized_corpus_without_stopwords)"
   ]
  },
  {
   "cell_type": "markdown",
   "metadata": {},
   "source": [
    "## Stemming"
   ]
  },
  {
   "cell_type": "code",
   "execution_count": 25,
   "metadata": {
    "colab": {
     "base_uri": "https://localhost:8080/",
     "height": 84
    },
    "colab_type": "code",
    "id": "ibEpzcv0sdW8",
    "outputId": "18f77b85-3a8e-4e89-df28-3bd6342ac594"
   },
   "outputs": [
    {
     "name": "stdout",
     "output_type": "stream",
     "text": [
      "Before Stemming:\n",
      "HONG KONG Oct  Reuters  Alibaba Group HK opens new tab founder Jack Ma largely out of public view since a regulatory clampdown started on his business empire late last year is currently in Hong Kong and has met business associates in recent days two sources told Reuters\n",
      "After Stemming:\n",
      "hong kong oct reuter alibaba group hk open new tab founder jack ma larg out of public view sinc a regulatori clampdown start on hi busi empir late last year is current in hong kong and ha met busi associ in recent day two sourc told reuter "
     ]
    }
   ],
   "source": [
    "stemmer= PorterStemmer()\n",
    "\n",
    "print(\"Before Stemming:\")\n",
    "print(corpus)\n",
    "\n",
    "print(\"After Stemming:\")\n",
    "for word in tokenized_corpus_nltk:\n",
    "    print(stemmer.stem(word),end=\" \")"
   ]
  },
  {
   "cell_type": "markdown",
   "metadata": {},
   "source": [
    "## Lematization"
   ]
  },
  {
   "cell_type": "code",
   "execution_count": 26,
   "metadata": {
    "colab_type": "text",
    "id": "9Wy6cwvYkJeR"
   },
   "outputs": [
    {
     "name": "stdout",
     "output_type": "stream",
     "text": [
      "HONG KONG Oct Reuters Alibaba Group HK open new tab founder Jack Ma largely out of public view since a regulatory clampdown started on his business empire late last year is currently in Hong Kong and ha met business associate in recent day two source told Reuters "
     ]
    }
   ],
   "source": [
    "lemmatizer = WordNetLemmatizer()\n",
    "\n",
    "for word in tokenized_corpus_nltk:\n",
    "    print(lemmatizer.lemmatize(word),end=\" \")"
   ]
  },
  {
   "cell_type": "markdown",
   "metadata": {},
   "source": [
    "## POS"
   ]
  },
  {
   "cell_type": "code",
   "execution_count": 27,
   "metadata": {
    "colab_type": "text",
    "id": "h8uCGA8ukMfQ"
   },
   "outputs": [
    {
     "name": "stdout",
     "output_type": "stream",
     "text": [
      "POS Tagging using spacy:\n",
      "HONG : PROPN\n",
      "KONG : PROPN\n",
      ", : PUNCT\n",
      "Oct : PROPN\n",
      "12 : NUM\n",
      "( : PUNCT\n",
      "Reuters : PROPN\n",
      ") : PUNCT\n",
      "- : PUNCT\n",
      "Alibaba : PROPN\n",
      "Group : PROPN\n",
      "( : PUNCT\n",
      "9988.HK : NUM\n",
      ") : PUNCT\n",
      ", : PUNCT\n",
      "opens : VERB\n",
      "new : ADJ\n",
      "tab : NOUN\n",
      "founder : NOUN\n",
      "Jack : PROPN\n",
      "Ma : PROPN\n",
      ", : PUNCT\n",
      "largely : ADV\n",
      "out : ADP\n",
      "of : ADP\n",
      "public : ADJ\n",
      "view : NOUN\n",
      "since : SCONJ\n",
      "a : DET\n",
      "regulatory : ADJ\n",
      "clampdown : NOUN\n",
      "started : VERB\n",
      "on : ADP\n",
      "his : PRON\n",
      "business : NOUN\n",
      "empire : NOUN\n",
      "late : ADV\n",
      "last : ADJ\n",
      "year : NOUN\n",
      ", : PUNCT\n",
      "is : AUX\n",
      "currently : ADV\n",
      "in : ADP\n",
      "Hong : PROPN\n",
      "Kong : PROPN\n",
      "and : CCONJ\n",
      "has : AUX\n",
      "met : VERB\n",
      "business : NOUN\n",
      "associates : NOUN\n",
      "in : ADP\n",
      "recent : ADJ\n",
      "days : NOUN\n",
      ", : PUNCT\n",
      "two : NUM\n",
      "sources : NOUN\n",
      "told : VERB\n",
      "Reuters : PROPN\n",
      ". : PUNCT\n",
      "\n",
      "POS Tagging using NLTK:\n",
      "[('HONG', 'NNP'),\n",
      " ('KONG', 'NNP'),\n",
      " (',', ','),\n",
      " ('Oct', 'NNP'),\n",
      " ('12', 'CD'),\n",
      " ('(', '('),\n",
      " ('Reuters', 'NNPS'),\n",
      " (')', ')'),\n",
      " ('-', ':'),\n",
      " ('Alibaba', 'NNP'),\n",
      " ('Group', 'NNP'),\n",
      " ('(', '('),\n",
      " ('9988.HK', 'CD'),\n",
      " (')', ')'),\n",
      " (',', ','),\n",
      " ('opens', 'VBZ'),\n",
      " ('new', 'JJ'),\n",
      " ('tab', 'JJ'),\n",
      " ('founder', 'NN'),\n",
      " ('Jack', 'NNP'),\n",
      " ('Ma', 'NNP'),\n",
      " (',', ','),\n",
      " ('largely', 'RB'),\n",
      " ('out', 'IN'),\n",
      " ('of', 'IN'),\n",
      " ('public', 'JJ'),\n",
      " ('view', 'NN'),\n",
      " ('since', 'IN'),\n",
      " ('a', 'DT'),\n",
      " ('regulatory', 'JJ'),\n",
      " ('clampdown', 'NN'),\n",
      " ('started', 'VBD'),\n",
      " ('on', 'IN'),\n",
      " ('his', 'PRP$'),\n",
      " ('business', 'NN'),\n",
      " ('empire', 'NN'),\n",
      " ('late', 'RB'),\n",
      " ('last', 'JJ'),\n",
      " ('year', 'NN'),\n",
      " (',', ','),\n",
      " ('is', 'VBZ'),\n",
      " ('currently', 'RB'),\n",
      " ('in', 'IN'),\n",
      " ('Hong', 'NNP'),\n",
      " ('Kong', 'NNP'),\n",
      " ('and', 'CC'),\n",
      " ('has', 'VBZ'),\n",
      " ('met', 'VBN'),\n",
      " ('business', 'NN'),\n",
      " ('associates', 'NNS'),\n",
      " ('in', 'IN'),\n",
      " ('recent', 'JJ'),\n",
      " ('days', 'NNS'),\n",
      " (',', ','),\n",
      " ('two', 'CD'),\n",
      " ('sources', 'NNS'),\n",
      " ('told', 'VBD'),\n",
      " ('Reuters', 'NNP'),\n",
      " ('.', '.')]\n"
     ]
    }
   ],
   "source": [
    "#POS tagging using spacy\n",
    "print(\"POS Tagging using spacy:\")\n",
    "doc = spacy_model(corpus_original)\n",
    "# Token and Tag\n",
    "for token in doc:\n",
    "    print(token,\":\", token.pos_)\n",
    "\n",
    "#pos tagging using nltk\n",
    "print(\"\\nPOS Tagging using NLTK:\")\n",
    "pprint(nltk.pos_tag(word_tokenize(corpus_original)))"
   ]
  }
 ],
 "metadata": {
  "colab": {
   "collapsed_sections": [],
   "name": "Tokenization_Stemming_lemmatization_stopword_postagging.ipynb",
   "provenance": []
  },
  "kernelspec": {
   "display_name": "Python 3",
   "language": "python",
   "name": "python3"
  },
  "language_info": {
   "codemirror_mode": {
    "name": "ipython",
    "version": 3
   },
   "file_extension": ".py",
   "mimetype": "text/x-python",
   "name": "python",
   "nbconvert_exporter": "python",
   "pygments_lexer": "ipython3",
   "version": "3.11.13"
  }
 },
 "nbformat": 4,
 "nbformat_minor": 1
}
