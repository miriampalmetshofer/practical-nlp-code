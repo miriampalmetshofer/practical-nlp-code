{
 "cells": [
  {
   "cell_type": "markdown",
   "metadata": {},
   "source": [
    "## One Hot Encoding and Label Encoding Exercise\n",
    "\n",
    "This notebook demonstrates OneHot and Label Encoding using scikit-learn on custom text documents."
   ]
  },
  {
   "cell_type": "code",
   "execution_count": null,
   "metadata": {},
   "outputs": [],
   "source": [
    "# Import required libraries\n",
    "from sklearn.preprocessing import LabelEncoder, OneHotEncoder"
   ]
  },
  {
   "cell_type": "code",
   "execution_count": null,
   "metadata": {},
   "outputs": [],
   "source": [
    "# Define the text documents\n",
    "S1 = 'Often, machine learning tutorials will recommend.'\n",
    "S2 = 'Getting started in applied machine learning.'\n",
    "S3 = 'One good example is to use.'\n",
    "\n",
    "# Preprocess: convert to lowercase and remove punctuation\n",
    "processed_docs = [doc.lower().replace(',', '').replace('.', '') for doc in [S1, S2, S3]]\n",
    "print(\"Processed documents:\")\n",
    "for i, doc in enumerate(processed_docs, 1):\n",
    "    print(f\"S{i}: {doc}\")"
   ]
  },
  {
   "cell_type": "markdown",
   "metadata": {},
   "source": [
    "## Label Encoding\n",
    "\n",
    "Label Encoding converts each word in the corpus into a numeric value between 0 and n-1 (where n is the number of unique words)."
   ]
  },
  {
   "cell_type": "code",
   "execution_count": null,
   "metadata": {},
   "outputs": [],
   "source": [
    "# Prepare data for encoding\n",
    "data = [doc.split() for doc in processed_docs]\n",
    "values = data[0] + data[1] + data[2]\n",
    "print(\"All words:\", values)\n",
    "print(\"\\nTotal words:\", len(values))\n",
    "print(\"Unique words:\", len(set(values)))"
   ]
  },
  {
   "cell_type": "code",
   "execution_count": null,
   "metadata": {},
   "outputs": [],
   "source": [
    "# Label Encoding\n",
    "label_encoder = LabelEncoder()\n",
    "integer_encoded = label_encoder.fit_transform(values)\n",
    "\n",
    "print(\"Label Encoded:\", integer_encoded)\n",
    "print(\"\\nWord to Label mapping:\")\n",
    "for word, label in zip(values, integer_encoded):\n",
    "    print(f\"  {word:15s} -> {label}\")"
   ]
  },
  {
   "cell_type": "code",
   "execution_count": null,
   "metadata": {},
   "outputs": [],
   "source": [
    "# Show unique label encodings\n",
    "print(\"\\nUnique word to label mapping:\")\n",
    "unique_words = sorted(set(values))\n",
    "unique_labels = label_encoder.transform(unique_words)\n",
    "for word, label in zip(unique_words, unique_labels):\n",
    "    print(f\"  {word:15s} -> {label}\")"
   ]
  },
  {
   "cell_type": "markdown",
   "metadata": {},
   "source": [
    "## One-Hot Encoding\n",
    "\n",
    "One-Hot Encoding represents each word as a binary vector where only one element is 1 (hot) and all others are 0."
   ]
  },
  {
   "cell_type": "code",
   "execution_count": null,
   "metadata": {},
   "outputs": [],
   "source": [
    "# One-Hot Encoding\n",
    "onehot_encoder = OneHotEncoder()\n",
    "onehot_encoded = onehot_encoder.fit_transform(data).toarray()\n",
    "\n",
    "print(\"Onehot Encoded Matrix:\")\n",
    "print(onehot_encoded)\n",
    "print(\"\\nShape:\", onehot_encoded.shape)\n",
    "print(\"(rows = number of documents, columns = total unique words across all positions)\")"
   ]
  },
  {
   "cell_type": "code",
   "execution_count": null,
   "metadata": {},
   "outputs": [],
   "source": [
    "# Display each document's encoding\n",
    "for i, (doc, encoding) in enumerate(zip(processed_docs, onehot_encoded), 1):\n",
    "    print(f\"\\nDocument {i}: '{doc}'\")\n",
    "    print(f\"One-hot encoding: {encoding}\")"
   ]
  },
  {
   "cell_type": "markdown",
   "metadata": {},
   "source": [
    "## Vocabulary Analysis"
   ]
  },
  {
   "cell_type": "code",
   "execution_count": null,
   "metadata": {},
   "outputs": [],
   "source": [
    "# Build vocabulary\n",
    "vocab = {}\n",
    "count = 0\n",
    "for doc in processed_docs:\n",
    "    for word in doc.split():\n",
    "        if word not in vocab:\n",
    "            count += 1\n",
    "            vocab[word] = count\n",
    "\n",
    "print(\"Vocabulary:\")\n",
    "for word, idx in sorted(vocab.items(), key=lambda x: x[1]):\n",
    "    print(f\"  {word:15s} -> {idx}\")"
   ]
  }
 ],
 "metadata": {
  "kernelspec": {
   "display_name": "Python 3",
   "language": "python",
   "name": "python3"
  },
  "language_info": {
   "name": "python",
   "version": "3.8.0"
  }
 },
 "nbformat": 4,
 "nbformat_minor": 4
}
