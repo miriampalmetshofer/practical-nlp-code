{
 "cells": [
  {
   "cell_type": "markdown",
   "metadata": {},
   "source": [
    "## One Hot Encoding and Label Encoding Exercise\n",
    "\n",
    "This notebook demonstrates OneHot and Label Encoding using scikit-learn on custom text documents."
   ]
  },
  {
   "cell_type": "code",
   "execution_count": 1,
   "metadata": {},
   "outputs": [],
   "source": [
    "# Import required libraries\n",
    "from sklearn.preprocessing import LabelEncoder, OneHotEncoder"
   ]
  },
  {
   "cell_type": "markdown",
   "metadata": {},
   "source": []
  },
  {
   "cell_type": "code",
   "execution_count": 2,
   "metadata": {},
   "outputs": [
    {
     "name": "stdout",
     "output_type": "stream",
     "text": [
      "Processed documents:\n",
      "S1: often machine learning tutorials will recommend\n",
      "S2: getting started in applied machine learning\n",
      "S3: one good example is to use\n"
     ]
    }
   ],
   "source": [
    "# Define the text documents\n",
    "S1 = 'Often, machine learning tutorials will recommend.'\n",
    "S2 = 'Getting started in applied machine learning.'\n",
    "S3 = 'One good example is to use.'\n",
    "\n",
    "# Preprocess: convert to lowercase and remove punctuation\n",
    "processed_docs = [doc.lower().replace(',', '').replace('.', '') for doc in [S1, S2, S3]]\n",
    "print(\"Processed documents:\")\n",
    "for i, doc in enumerate(processed_docs, 1):\n",
    "    print(f\"S{i}: {doc}\")"
   ]
  },
  {
   "cell_type": "markdown",
   "metadata": {},
   "source": [
    "## Label Encoding\n",
    "\n",
    "Label Encoding converts each word in the corpus into a numeric value between 0 and n-1 (where n is the number of unique words)."
   ]
  },
  {
   "cell_type": "code",
   "execution_count": 3,
   "metadata": {},
   "outputs": [
    {
     "name": "stdout",
     "output_type": "stream",
     "text": [
      "All words: ['often', 'machine', 'learning', 'tutorials', 'will', 'recommend', 'getting', 'started', 'in', 'applied', 'machine', 'learning', 'one', 'good', 'example', 'is', 'to', 'use']\n",
      "\n",
      "Total words: 18\n",
      "Unique words: 16\n"
     ]
    }
   ],
   "source": [
    "# Prepare data for encoding\n",
    "data = [doc.split() for doc in processed_docs]\n",
    "values = data[0] + data[1] + data[2]\n",
    "print(\"All words:\", values)\n",
    "print(\"\\nTotal words:\", len(values))\n",
    "print(\"Unique words:\", len(set(values)))"
   ]
  },
  {
   "cell_type": "code",
   "execution_count": 4,
   "metadata": {},
   "outputs": [
    {
     "name": "stdout",
     "output_type": "stream",
     "text": [
      "Label Encoded: [ 8  7  6 13 15 10  2 11  4  0  7  6  9  3  1  5 12 14]\n",
      "\n",
      "Word to Label mapping:\n",
      "  often           -> 8\n",
      "  machine         -> 7\n",
      "  learning        -> 6\n",
      "  tutorials       -> 13\n",
      "  will            -> 15\n",
      "  recommend       -> 10\n",
      "  getting         -> 2\n",
      "  started         -> 11\n",
      "  in              -> 4\n",
      "  applied         -> 0\n",
      "  machine         -> 7\n",
      "  learning        -> 6\n",
      "  one             -> 9\n",
      "  good            -> 3\n",
      "  example         -> 1\n",
      "  is              -> 5\n",
      "  to              -> 12\n",
      "  use             -> 14\n"
     ]
    }
   ],
   "source": [
    "# Label Encoding\n",
    "label_encoder = LabelEncoder()\n",
    "integer_encoded = label_encoder.fit_transform(values)\n",
    "\n",
    "print(\"Label Encoded:\", integer_encoded)\n",
    "print(\"\\nWord to Label mapping:\")\n",
    "for word, label in zip(values, integer_encoded):\n",
    "    print(f\"  {word:15s} -> {label}\")"
   ]
  },
  {
   "cell_type": "code",
   "execution_count": 5,
   "metadata": {},
   "outputs": [
    {
     "name": "stdout",
     "output_type": "stream",
     "text": [
      "\n",
      "Unique word to label mapping:\n",
      "  applied         -> 0\n",
      "  example         -> 1\n",
      "  getting         -> 2\n",
      "  good            -> 3\n",
      "  in              -> 4\n",
      "  is              -> 5\n",
      "  learning        -> 6\n",
      "  machine         -> 7\n",
      "  often           -> 8\n",
      "  one             -> 9\n",
      "  recommend       -> 10\n",
      "  started         -> 11\n",
      "  to              -> 12\n",
      "  tutorials       -> 13\n",
      "  use             -> 14\n",
      "  will            -> 15\n"
     ]
    }
   ],
   "source": [
    "# Show unique label encodings\n",
    "print(\"\\nUnique word to label mapping:\")\n",
    "unique_words = sorted(set(values))\n",
    "unique_labels = label_encoder.transform(unique_words)\n",
    "for word, label in zip(unique_words, unique_labels):\n",
    "    print(f\"  {word:15s} -> {label}\")"
   ]
  },
  {
   "cell_type": "markdown",
   "metadata": {},
   "source": [
    "## One-Hot Encoding\n",
    "\n",
    "One-Hot Encoding represents each word as a binary vector where only one element is 1 (hot) and all others are 0."
   ]
  },
  {
   "cell_type": "code",
   "execution_count": 6,
   "metadata": {},
   "outputs": [
    {
     "name": "stdout",
     "output_type": "stream",
     "text": [
      "Onehot Encoded Matrix:\n",
      "[[0. 1. 0. 0. 1. 0. 0. 0. 1. 0. 0. 1. 0. 0. 1. 0. 1. 0.]\n",
      " [1. 0. 0. 0. 0. 1. 0. 1. 0. 1. 0. 0. 1. 0. 0. 1. 0. 0.]\n",
      " [0. 0. 1. 1. 0. 0. 1. 0. 0. 0. 1. 0. 0. 1. 0. 0. 0. 1.]]\n",
      "\n",
      "Shape: (3, 18)\n",
      "(rows = number of documents, columns = total unique words across all positions)\n"
     ]
    }
   ],
   "source": [
    "# One-Hot Encoding\n",
    "onehot_encoder = OneHotEncoder()\n",
    "onehot_encoded = onehot_encoder.fit_transform(data).toarray()\n",
    "\n",
    "print(\"Onehot Encoded Matrix:\")\n",
    "print(onehot_encoded)\n",
    "print(\"\\nShape:\", onehot_encoded.shape)\n",
    "print(\"(rows = number of documents, columns = total unique words across all positions)\")"
   ]
  },
  {
   "cell_type": "code",
   "execution_count": 7,
   "metadata": {},
   "outputs": [
    {
     "name": "stdout",
     "output_type": "stream",
     "text": [
      "\n",
      "Document 1: 'often machine learning tutorials will recommend'\n",
      "One-hot encoding: [0. 1. 0. 0. 1. 0. 0. 0. 1. 0. 0. 1. 0. 0. 1. 0. 1. 0.]\n",
      "\n",
      "Document 2: 'getting started in applied machine learning'\n",
      "One-hot encoding: [1. 0. 0. 0. 0. 1. 0. 1. 0. 1. 0. 0. 1. 0. 0. 1. 0. 0.]\n",
      "\n",
      "Document 3: 'one good example is to use'\n",
      "One-hot encoding: [0. 0. 1. 1. 0. 0. 1. 0. 0. 0. 1. 0. 0. 1. 0. 0. 0. 1.]\n"
     ]
    }
   ],
   "source": [
    "# Display each document's encoding\n",
    "for i, (doc, encoding) in enumerate(zip(processed_docs, onehot_encoded), 1):\n",
    "    print(f\"\\nDocument {i}: '{doc}'\")\n",
    "    print(f\"One-hot encoding: {encoding}\")"
   ]
  },
  {
   "cell_type": "markdown",
   "metadata": {},
   "source": [
    "## Vocabulary Analysis"
   ]
  },
  {
   "cell_type": "code",
   "execution_count": 8,
   "metadata": {},
   "outputs": [
    {
     "name": "stdout",
     "output_type": "stream",
     "text": [
      "Vocabulary:\n",
      "  often           -> 1\n",
      "  machine         -> 2\n",
      "  learning        -> 3\n",
      "  tutorials       -> 4\n",
      "  will            -> 5\n",
      "  recommend       -> 6\n",
      "  getting         -> 7\n",
      "  started         -> 8\n",
      "  in              -> 9\n",
      "  applied         -> 10\n",
      "  one             -> 11\n",
      "  good            -> 12\n",
      "  example         -> 13\n",
      "  is              -> 14\n",
      "  to              -> 15\n",
      "  use             -> 16\n"
     ]
    }
   ],
   "source": [
    "# Build vocabulary\n",
    "vocab = {}\n",
    "count = 0\n",
    "for doc in processed_docs:\n",
    "    for word in doc.split():\n",
    "        if word not in vocab:\n",
    "            count += 1\n",
    "            vocab[word] = count\n",
    "\n",
    "print(\"Vocabulary:\")\n",
    "for word, idx in sorted(vocab.items(), key=lambda x: x[1]):\n",
    "    print(f\"  {word:15s} -> {idx}\")"
   ]
  }
 ],
 "metadata": {
  "kernelspec": {
   "display_name": "Python 3",
   "language": "python",
   "name": "python3"
  },
  "language_info": {
   "codemirror_mode": {
    "name": "ipython",
    "version": 3
   },
   "file_extension": ".py",
   "mimetype": "text/x-python",
   "name": "python",
   "nbconvert_exporter": "python",
   "pygments_lexer": "ipython3",
   "version": "3.11.13"
  }
 },
 "nbformat": 4,
 "nbformat_minor": 4
}
